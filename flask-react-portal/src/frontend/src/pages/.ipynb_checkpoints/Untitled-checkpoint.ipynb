{
 "cells": [
  {
   "cell_type": "code",
   "execution_count": 47,
   "metadata": {},
   "outputs": [
    {
     "name": "stdout",
     "output_type": "stream",
     "text": [
      "{'image': 'shared/registry/dpage/pgadmin4', 'tags': ['3.4']}\n"
     ]
    }
   ],
   "source": [
    "import base64\n",
    "import json    # or `import simplejson as json` if on Python < 2.6\n",
    "import urllib.request\n",
    "\n",
    "#json_string = u'{ \"id\":\"123456789\" }'\n",
    "#obj = json.loads(json_string)    # obj now contains a dict of the data\n",
    "\n",
    "#print(obj)\n",
    "\n",
    "contents = urllib.request.urlopen(\"https://gitlab.hmc.co.kr/shared/registry/container_registry.json\").read()\n",
    "\n",
    "#contents\n",
    "#print(contents.decode(\"utf-8\"))\n",
    "\n",
    "lists = []\n",
    "dicts = {}\n",
    "\n",
    "\n",
    "images = json.loads(contents.decode(\"utf-8\"))\n",
    "\n",
    "for image in images:\n",
    "    #print(image)\n",
    "    #print(image.get('path'))\n",
    "    \n",
    "    tag_json = urllib.request.urlopen(\"https://gitlab.hmc.co.kr\"+image.get('tags_path')).read()\n",
    "    tags = json.loads(tag_json.decode(\"utf-8\"))\n",
    "        \n",
    "    for tag in tags:\n",
    "        #print(tag.get('name'), end=', ')\n",
    "        try:\n",
    "            dicts[image.get('path')] #print()\n",
    "        except:\n",
    "            dicts[image.get('path')] = []\n",
    "        dicts[image.get('path')].append(tag.get('name'))\n",
    "    \n",
    "    json_string = {'image': str(image.get('path')), 'tags': dicts[image.get('path')]}\n",
    "    lists.append(json_string)\n",
    "    #print(dicts[image.get('path')])\n",
    "    #print('')\n",
    "    \n",
    "print(lists)\n",
    "#print(base64.b64decode(contents))\n",
    "#print(base64.b64decode(b'eyJhdXRocyI6eyJodHRwczovL2RvY2tlci5oYWUtaHBjLmNvbSI6eyJ1c2VybmFtZSI6IkU2NDAwMjUiLCJwYXNzd29yZCI6ImJYWHNBLTZBN1NYM0R5X2t5MzlCIiwiYXV0aCI6IlJUWTBNREF5TlRwaVdGaHpRUzAyUVRkVFdETkVlVjlyZVRNNVFnPT0ifX19'))\n"
   ]
  },
  {
   "cell_type": "code",
   "execution_count": null,
   "metadata": {},
   "outputs": [],
   "source": []
  }
 ],
 "metadata": {
  "kernelspec": {
   "display_name": "Python 3",
   "language": "python",
   "name": "python3"
  },
  "language_info": {
   "codemirror_mode": {
    "name": "ipython",
    "version": 3
   },
   "file_extension": ".py",
   "mimetype": "text/x-python",
   "name": "python",
   "nbconvert_exporter": "python",
   "pygments_lexer": "ipython3",
   "version": "3.6.4"
  }
 },
 "nbformat": 4,
 "nbformat_minor": 2
}
