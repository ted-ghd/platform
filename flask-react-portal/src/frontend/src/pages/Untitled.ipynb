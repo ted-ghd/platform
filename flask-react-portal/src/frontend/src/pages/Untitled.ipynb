{
 "cells": [
  {
   "cell_type": "code",
   "execution_count": 60,
   "metadata": {},
   "outputs": [
    {
     "name": "stdout",
     "output_type": "stream",
     "text": [
      "shared/registry/nvidia/tensorflow\n",
      "shared/registry/nvidia/caffe2\n",
      "shared/registry/tensorflow/tensorflow\n",
      "shared/registry/nvidia/dcgm-exporter\n"
     ]
    }
   ],
   "source": [
    "import base64\n",
    "import json    # or `import simplejson as json` if on Python < 2.6\n",
    "import urllib.request\n",
    "\n",
    "#json_string = u'{ \"id\":\"123456789\" }'\n",
    "#obj = json.loads(json_string)    # obj now contains a dict of the data\n",
    "\n",
    "#print(obj)\n",
    "\n",
    "contents = urllib.request.urlopen(\"https://gitlab.hmc.co.kr/shared/registry/container_registry.json\").read()\n",
    "\n",
    "lists = []\n",
    "dicts = {}\n",
    "\n",
    "images = json.loads(contents.decode(\"utf-8\"))\n",
    "\n",
    "for image in images:\n",
    "    \n",
    "    #print( str(image.get('path')))\n",
    "    if(\"nvidia\" not in str(image.get('path')) and \\\n",
    "       \"tensorflow\" not in str(image.get('path')) \n",
    "      ): \n",
    "        \n",
    "        continue\n",
    "    tag_json = urllib.request.urlopen(\"https://gitlab.hmc.co.kr\"+image.get('tags_path')).read()\n",
    "    tags = json.loads(tag_json.decode(\"utf-8\"))\n",
    "        \n",
    "    for tag in tags:\n",
    "        try:\n",
    "            dicts[image.get('path')] \n",
    "        except:\n",
    "            dicts[image.get('path')] = []\n",
    "        dicts[image.get('path')].append(tag.get('name'))\n",
    "    \n",
    "    json_string = {'image': str(image.get('path')), 'tags': dicts[image.get('path')]}\n",
    "    lists.append(json_string)\n",
    "\n",
    "\n",
    "#print(lists)\n",
    "\n",
    "for item in lists:\n",
    "    print(item.get('image'))\n",
    "\n",
    "#return json.dumps(lists), 200\n",
    "#print(base64.b64decode(contents))\n",
    "#print(base64.b64decode(b'eyJhdXRocyI6eyJodHRwczovL2RvY2tlci5oYWUtaHBjLmNvbSI6eyJ1c2VybmFtZSI6IkU2NDAwMjUiLCJwYXNzd29yZCI6ImJYWHNBLTZBN1NYM0R5X2t5MzlCIiwiYXV0aCI6IlJUWTBNREF5TlRwaVdGaHpRUzAyUVRkVFdETkVlVjlyZVRNNVFnPT0ifX19'))\n"
   ]
  },
  {
   "cell_type": "code",
   "execution_count": null,
   "metadata": {},
   "outputs": [],
   "source": []
  }
 ],
 "metadata": {
  "kernelspec": {
   "display_name": "Python 3",
   "language": "python",
   "name": "python3"
  },
  "language_info": {
   "codemirror_mode": {
    "name": "ipython",
    "version": 3
   },
   "file_extension": ".py",
   "mimetype": "text/x-python",
   "name": "python",
   "nbconvert_exporter": "python",
   "pygments_lexer": "ipython3",
   "version": "3.6.4"
  }
 },
 "nbformat": 4,
 "nbformat_minor": 2
}
